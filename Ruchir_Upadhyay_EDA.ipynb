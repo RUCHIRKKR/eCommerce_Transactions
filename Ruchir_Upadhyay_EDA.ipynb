{
  "nbformat": 4,
  "nbformat_minor": 0,
  "metadata": {
    "colab": {
      "provenance": []
    },
    "kernelspec": {
      "name": "python3",
      "display_name": "Python 3"
    },
    "language_info": {
      "name": "python"
    }
  },
  "cells": [
    {
      "cell_type": "code",
      "source": [
        "import pandas as pd\n",
        "import matplotlib.pyplot as plt\n",
        "import seaborn as sns\n",
        "\n",
        "# Load the datasets\n",
        "customers_df = pd.read_csv(\"Customers.csv\")\n",
        "products_df = pd.read_csv(\"Products.csv\")\n",
        "transactions_df = pd.read_csv(\"Transactions.csv\")\n",
        "\n",
        "# Convert 'SignupDate' and 'TransactionDate' to datetime for correct analysis\n",
        "customers_df['SignupDate'] = pd.to_datetime(customers_df['SignupDate'])\n",
        "transactions_df['TransactionDate'] = pd.to_datetime(transactions_df['TransactionDate'])\n",
        "\n",
        "# Merge the datasets for analysis\n",
        "merged_df = transactions_df.merge(customers_df, on='CustomerID', how='left')\n",
        "merged_df = merged_df.merge(products_df, on='ProductID', how='left')\n",
        "\n",
        "# Business Insights Generation\n",
        "\n",
        "# 1. Regional Sales Insights\n",
        "regional_sales = merged_df.groupby('Region')['TotalValue'].sum()\n",
        "largest_market = regional_sales.idxmax()\n",
        "insight_1 = f\"**{largest_market} is the largest market** with the highest total sales.\"\n",
        "\n",
        "# 2. Product Category Analysis\n",
        "category_sales = merged_df.groupby('Category')['TotalValue'].sum()\n",
        "most_profitable_category = category_sales.idxmax()\n",
        "insight_2 = f\"**{most_profitable_category} is the most profitable product category**, generating the highest revenue.\"\n",
        "\n",
        "# 3. Customer Transaction Insights (Average Spend per Region)\n",
        "region_avg_spend = merged_df.groupby('Region')['TotalValue'].mean()\n",
        "high_spending_region = region_avg_spend.idxmax()\n",
        "insight_3 = f\"**Customers in {high_spending_region} tend to spend more per transaction** on average.\"\n",
        "\n",
        "# 4. Customer Growth Potential (Region Comparison)\n",
        "second_largest_region = regional_sales.nlargest(2).idxmin()\n",
        "insight_4 = f\"**There is significant potential for customer growth** in {second_largest_region}, as it has the second-largest customer base but lower sales compared to {largest_market}.\"\n",
        "\n",
        "# 5. Targeted Marketing Opportunity (Category & Region Combination)\n",
        "top_category_in_region = merged_df.groupby(['Region', 'Category'])['TotalValue'].sum().idxmax()\n",
        "insight_5 = f\"**Targeted marketing campaigns** can be implemented based on customer region and product category preferences. For example, {top_category_in_region[1]} in {top_category_in_region[0]}.\"\n",
        "\n",
        "# Output Business Insights\n",
        "insights = [insight_1, insight_2, insight_3, insight_4, insight_5]\n",
        "\n",
        "# Print insights\n",
        "for insight in insights:\n",
        "    print(insight)\n"
      ],
      "metadata": {
        "colab": {
          "base_uri": "https://localhost:8080/"
        },
        "id": "16STDeskn0Ge",
        "outputId": "dc1a3174-16a8-445a-b369-0c77d91cb24c"
      },
      "execution_count": 20,
      "outputs": [
        {
          "output_type": "stream",
          "name": "stdout",
          "text": [
            "**South America is the largest market** with the highest total sales.\n",
            "**Books is the most profitable product category**, generating the highest revenue.\n",
            "**Customers in South America tend to spend more per transaction** on average.\n",
            "**There is significant potential for customer growth** in Europe, as it has the second-largest customer base but lower sales compared to South America.\n",
            "**Targeted marketing campaigns** can be implemented based on customer region and product category preferences. For example, Books in South America.\n"
          ]
        }
      ]
    },
    {
      "cell_type": "code",
      "source": [],
      "metadata": {
        "id": "DhOY9JvYoYYe"
      },
      "execution_count": null,
      "outputs": []
    }
  ]
}