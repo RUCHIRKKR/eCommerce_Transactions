{
  "nbformat": 4,
  "nbformat_minor": 0,
  "metadata": {
    "colab": {
      "provenance": []
    },
    "kernelspec": {
      "name": "python3",
      "display_name": "Python 3"
    },
    "language_info": {
      "name": "python"
    }
  },
  "cells": [
    {
      "cell_type": "code",
      "source": [
        "import pandas as pd\n",
        "from fpdf import FPDF\n",
        "\n",
        "\n",
        "# Load the datasets\n",
        "customers_df = pd.read_csv(\"Customers.csv\")\n",
        "products_df = pd.read_csv(\"Products.csv\")\n",
        "transactions_df = pd.read_csv(\"Transactions.csv\")\n",
        "\n",
        "# Convert 'SignupDate' and 'TransactionDate' to datetime for correct analysis\n",
        "customers_df['SignupDate'] = pd.to_datetime(customers_df['SignupDate'])\n",
        "transactions_df['TransactionDate'] = pd.to_datetime(transactions_df['TransactionDate'])\n",
        "\n",
        "# Merge the datasets for analysis\n",
        "merged_df = transactions_df.merge(customers_df, on='CustomerID', how='left')\n",
        "merged_df = merged_df.merge(products_df, on='ProductID', how='left')\n",
        "\n",
        "# Business Insights Generation\n",
        "\n",
        "# 1. Regional Sales Insights\n",
        "regional_sales = merged_df.groupby('Region')['TotalValue'].sum()\n",
        "largest_market = regional_sales.idxmax()\n",
        "insight_1 = f\"**{largest_market} is the largest market** with the highest total sales.\"\n",
        "\n",
        "# 2. Product Category Analysis\n",
        "category_sales = merged_df.groupby('Category')['TotalValue'].sum()\n",
        "most_profitable_category = category_sales.idxmax()\n",
        "insight_2 = f\"**{most_profitable_category} is the most profitable product category**, generating the highest revenue.\"\n",
        "\n",
        "# 3. Customer Transaction Insights (Average Spend per Region)\n",
        "region_avg_spend = merged_df.groupby('Region')['TotalValue'].mean()\n",
        "high_spending_region = region_avg_spend.idxmax()\n",
        "insight_3 = f\"**Customers in {high_spending_region} tend to spend more per transaction** on average.\"\n",
        "\n",
        "# 4. Customer Growth Potential (Region Comparison)\n",
        "second_largest_region = regional_sales.nlargest(2).idxmin()\n",
        "insight_4 = f\"**There is significant potential for customer growth** in {second_largest_region}, as it has the second-largest customer base but lower sales compared to {largest_market}.\"\n",
        "\n",
        "# 5. Targeted Marketing Opportunity (Category & Region Combination)\n",
        "top_category_in_region = merged_df.groupby(['Region', 'Category'])['TotalValue'].sum().idxmax()\n",
        "insight_5 = f\"**Targeted marketing campaigns** can be implemented based on customer region and product category preferences. For example, {top_category_in_region[1]} in {top_category_in_region[0]}.\"\n",
        "\n",
        "# Output Business Insights\n",
        "insights = [insight_1, insight_2, insight_3, insight_4, insight_5]\n",
        "\n",
        "# Initialize PDF\n",
        "pdf = FPDF()\n",
        "pdf.set_auto_page_break(auto=True, margin=15)\n",
        "pdf.add_page()\n",
        "\n",
        "# Set Title and font for the PDF\n",
        "pdf.set_font(\"Arial\", \"B\", 16)\n",
        "pdf.cell(200, 10, \"Business Insights Report\", ln=True, align=\"C\")\n",
        "pdf.ln(10)\n",
        "\n",
        "# Set font for insights\n",
        "pdf.set_font(\"Arial\", \"\", 12)\n",
        "\n",
        "# Add each insight to the PDF\n",
        "for insight in insights:\n",
        "    pdf.multi_cell(0, 10, insight)\n",
        "    pdf.ln(5)\n",
        "\n",
        "# Save the PDF report\n",
        "pdf_output = \"Business_Insights_Report.pdf\"\n",
        "pdf.output(pdf_output)\n",
        "\n",
        "print(f\"Business Insights report generated successfully: {pdf_output}\")\n"
      ],
      "metadata": {
        "colab": {
          "base_uri": "https://localhost:8080/"
        },
        "id": "16STDeskn0Ge",
        "outputId": "0a7591e6-cb56-45fc-84b1-6ac6f45c0747"
      },
      "execution_count": 26,
      "outputs": [
        {
          "output_type": "stream",
          "name": "stdout",
          "text": [
            "Business Insights report generated successfully: Business_Insights_Report.pdf\n"
          ]
        }
      ]
    },
    {
      "cell_type": "code",
      "source": [
        "pip install fpdf\n"
      ],
      "metadata": {
        "colab": {
          "base_uri": "https://localhost:8080/"
        },
        "id": "DhOY9JvYoYYe",
        "outputId": "101ef1f5-7565-4e4f-f3cf-fce6b037d6d4"
      },
      "execution_count": 24,
      "outputs": [
        {
          "output_type": "stream",
          "name": "stdout",
          "text": [
            "Collecting fpdf\n",
            "  Downloading fpdf-1.7.2.tar.gz (39 kB)\n",
            "  Preparing metadata (setup.py) ... \u001b[?25l\u001b[?25hdone\n",
            "Building wheels for collected packages: fpdf\n",
            "  Building wheel for fpdf (setup.py) ... \u001b[?25l\u001b[?25hdone\n",
            "  Created wheel for fpdf: filename=fpdf-1.7.2-py2.py3-none-any.whl size=40704 sha256=474677e0beca48cec29b28bbeb25c9946778703f08be82c621707156d2b971f5\n",
            "  Stored in directory: /root/.cache/pip/wheels/65/4f/66/bbda9866da446a72e206d6484cd97381cbc7859a7068541c36\n",
            "Successfully built fpdf\n",
            "Installing collected packages: fpdf\n",
            "Successfully installed fpdf-1.7.2\n"
          ]
        }
      ]
    }
  ]
}