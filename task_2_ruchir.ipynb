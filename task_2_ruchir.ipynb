{
  "nbformat": 4,
  "nbformat_minor": 0,
  "metadata": {
    "colab": {
      "provenance": []
    },
    "kernelspec": {
      "name": "python3",
      "display_name": "Python 3"
    },
    "language_info": {
      "name": "python"
    }
  },
  "cells": [
    {
      "cell_type": "code",
      "source": [
        "import pandas as pd\n",
        "from sklearn.metrics.pairwise import cosine_similarity\n",
        "from sklearn.feature_extraction.text import TfidfVectorizer\n",
        "\n",
        "# Load the datasets\n",
        "customers_df = pd.read_csv(\"Customers.csv\")\n",
        "products_df = pd.read_csv(\"Products.csv\")\n",
        "transactions_df = pd.read_csv(\"Transactions.csv\")\n",
        "\n",
        "# Merge the datasets for analysis\n",
        "merged_df = transactions_df.merge(customers_df, on='CustomerID', how='left')\n",
        "merged_df = merged_df.merge(products_df, on='ProductID', how='left')\n",
        "\n",
        "# Create a customer-product matrix (each customer and their purchased products)\n",
        "customer_product_matrix = merged_df.pivot_table(\n",
        "    index='CustomerID', columns='ProductID', values='Quantity', fill_value=0\n",
        ")\n",
        "\n",
        "# Create a customer-category matrix (each customer and the product categories they purchased)\n",
        "customer_category_matrix = merged_df.groupby(['CustomerID', 'Category'])['Quantity'].sum().unstack(fill_value=0)\n",
        "\n",
        "# Combine the customer-product and customer-category matrices\n",
        "customer_features = pd.concat([customer_product_matrix, customer_category_matrix], axis=1)\n",
        "\n",
        "# Convert customer features to string format for TF-IDF Vectorizer\n",
        "# Apply lambda to combine all customer features into one string per customer\n",
        "tfidf_vectorizer = TfidfVectorizer()\n",
        "tfidf_matrix = tfidf_vectorizer.fit_transform(customer_features.apply(lambda x: ' '.join(x.astype(str)), axis=1))\n",
        "\n",
        "# Calculate cosine similarity between customers\n",
        "cosine_sim = cosine_similarity(tfidf_matrix)\n",
        "\n",
        "# Function to find top n lookalike customers for a given customer based on cosine similarity\n",
        "def find_lookalikes(customer_id, cosine_sim, n_lookalikes=3):\n",
        "    \"\"\"\n",
        "    Finds the top n_lookalikes for a given customer based on cosine similarity.\n",
        "\n",
        "    Args:\n",
        "        customer_id: The ID of the customer to find lookalikes for.\n",
        "        cosine_sim: The cosine similarity matrix.\n",
        "        n_lookalikes: The number of lookalikes to find.\n",
        "\n",
        "    Returns:\n",
        "        A list of tuples, each containing the lookalike customer ID and their similarity score.\n",
        "    \"\"\"\n",
        "    idx = customers_df[customers_df['CustomerID'] == customer_id].index[0]  # Find the index of the customer\n",
        "    sim_scores = list(enumerate(cosine_sim[idx]))  # Get the similarity scores for the customer\n",
        "    sim_scores = sorted(sim_scores, key=lambda x: x[1], reverse=True)  # Sort by similarity score in descending order\n",
        "    lookalikes = sim_scores[1:n_lookalikes + 1]  # Exclude the customer itself (index 0)\n",
        "    return lookalikes\n",
        "\n",
        "# Find lookalikes for the first 20 customers (C0001 - C0020)\n",
        "lookalike_customers = {}\n",
        "for customer_id in customers_df['CustomerID'][:20]:  # Iterate over the first 20 customers\n",
        "    lookalikes = find_lookalikes(customer_id, cosine_sim)  # Find the lookalikes for each customer\n",
        "    lookalike_customers[customer_id] = [\n",
        "        {'CustomerID': customers_df.iloc[lookalike[0]]['CustomerID'], 'Similarity': lookalike[1]}\n",
        "        for lookalike in lookalikes\n",
        "    ]\n",
        "\n",
        "# Create a DataFrame to store the results\n",
        "lookalike_df = pd.DataFrame.from_dict(lookalike_customers, orient='index')\n",
        "lookalike_df.index.name = 'CustomerID'\n",
        "lookalike_df.columns = ['Lookalike_' + str(i) for i in range(1, 4)]\n",
        "\n",
        "# Save the results to a CSV file\n",
        "lookalike_df.to_csv(\"Lookalike.csv\")\n",
        "\n",
        "# Print the results for the first 5 customers\n",
        "print(lookalike_df.head())\n"
      ],
      "metadata": {
        "colab": {
          "base_uri": "https://localhost:8080/"
        },
        "id": "16STDeskn0Ge",
        "outputId": "12f06e6d-4cd2-4f7f-9577-954e4c3151c7"
      },
      "execution_count": 28,
      "outputs": [
        {
          "output_type": "stream",
          "name": "stdout",
          "text": [
            "                                           Lookalike_1  \\\n",
            "CustomerID                                               \n",
            "C0001       {'CustomerID': 'C0002', 'Similarity': 0.0}   \n",
            "C0002       {'CustomerID': 'C0002', 'Similarity': 0.0}   \n",
            "C0003       {'CustomerID': 'C0002', 'Similarity': 0.0}   \n",
            "C0004       {'CustomerID': 'C0002', 'Similarity': 0.0}   \n",
            "C0005       {'CustomerID': 'C0002', 'Similarity': 0.0}   \n",
            "\n",
            "                                           Lookalike_2  \\\n",
            "CustomerID                                               \n",
            "C0001       {'CustomerID': 'C0003', 'Similarity': 0.0}   \n",
            "C0002       {'CustomerID': 'C0003', 'Similarity': 0.0}   \n",
            "C0003       {'CustomerID': 'C0003', 'Similarity': 0.0}   \n",
            "C0004       {'CustomerID': 'C0003', 'Similarity': 0.0}   \n",
            "C0005       {'CustomerID': 'C0003', 'Similarity': 0.0}   \n",
            "\n",
            "                                           Lookalike_3  \n",
            "CustomerID                                              \n",
            "C0001       {'CustomerID': 'C0004', 'Similarity': 0.0}  \n",
            "C0002       {'CustomerID': 'C0004', 'Similarity': 0.0}  \n",
            "C0003       {'CustomerID': 'C0004', 'Similarity': 0.0}  \n",
            "C0004       {'CustomerID': 'C0004', 'Similarity': 0.0}  \n",
            "C0005       {'CustomerID': 'C0004', 'Similarity': 0.0}  \n"
          ]
        }
      ]
    }
  ]
}